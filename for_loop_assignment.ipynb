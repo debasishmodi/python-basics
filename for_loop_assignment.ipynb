{
 "cells": [
  {
   "cell_type": "code",
   "execution_count": 5,
   "id": "df5d54bd-c318-44c1-aeca-295b9d3198d5",
   "metadata": {},
   "outputs": [
    {
     "name": "stdout",
     "output_type": "stream",
     "text": [
      "1\n",
      "2\n",
      "3\n",
      "4\n",
      "5\n",
      "6\n",
      "7\n",
      "8\n",
      "9\n",
      "10\n"
     ]
    }
   ],
   "source": [
    "#we established the loop from 1 to 10\n",
    "for x in range(1,11):\n",
    "    print(x) #print the result"
   ]
  },
  {
   "cell_type": "code",
   "execution_count": 6,
   "id": "7a125453-82e1-47fd-992b-e699948aceb5",
   "metadata": {},
   "outputs": [
    {
     "name": "stdout",
     "output_type": "stream",
     "text": [
      "Sum: 15\n"
     ]
    }
   ],
   "source": [
    "# taking the list\n",
    "numbers = [1, 2, 3, 4, 5]\n",
    "sum_result = 0\n",
    "#priting the list elemnt\n",
    "for num in numbers:\n",
    "    sum_result += num\n",
    "\n",
    "print(\"Sum:\", sum_result)"
   ]
  },
  {
   "cell_type": "code",
   "execution_count": 7,
   "id": "4a4bd74b-9b62-43bb-a7ea-5042623d9111",
   "metadata": {},
   "outputs": [
    {
     "name": "stdout",
     "output_type": "stream",
     "text": [
      "!\n",
      "d\n",
      "l\n",
      "r\n",
      "o\n",
      "W\n",
      " \n",
      ",\n",
      "o\n",
      "l\n",
      "l\n",
      "e\n",
      "H\n"
     ]
    }
   ],
   "source": [
    "#list example\n",
    "my_string = \"Hello, World!\"\n",
    "# accessing the element using the for loop\n",
    "for char in reversed(my_string):\n",
    "    print(char)\n"
   ]
  },
  {
   "cell_type": "code",
   "execution_count": 12,
   "id": "8aa0bfcb-339c-46a5-9a96-f47f0c31047f",
   "metadata": {},
   "outputs": [
    {
     "name": "stdin",
     "output_type": "stream",
     "text": [
      "Enter the number: 5\n"
     ]
    },
    {
     "name": "stdout",
     "output_type": "stream",
     "text": [
      "120\n"
     ]
    }
   ],
   "source": [
    "#taking number as input\n",
    "num=int(input(\"Enter the number:\"))\n",
    "fact=1\n",
    "if num >0:\n",
    "    #use loop to find factorial\n",
    "    for i in range(1,num+1):\n",
    "        fact=fact*i #store the reult\n",
    "    print (fact)\n",
    "else:\n",
    "    print (\"not possible\")\n",
    " "
   ]
  },
  {
   "cell_type": "code",
   "execution_count": 14,
   "id": "a6a319e7-75d8-4d29-866e-365a24a8e26d",
   "metadata": {},
   "outputs": [
    {
     "name": "stdin",
     "output_type": "stream",
     "text": [
      "Enter the number 9\n"
     ]
    },
    {
     "name": "stdout",
     "output_type": "stream",
     "text": [
      "9 x 1 = 9\n",
      "9 x 2 = 18\n",
      "9 x 3 = 27\n",
      "9 x 4 = 36\n",
      "9 x 5 = 45\n",
      "9 x 6 = 54\n",
      "9 x 7 = 63\n",
      "9 x 8 = 72\n",
      "9 x 9 = 81\n",
      "9 x 10 = 90\n"
     ]
    }
   ],
   "source": [
    "#taking number as input\n",
    "num = int(input(\"Enter the number\"))\n",
    "#printing thr results\n",
    "for i in range(1, 11):\n",
    "    print(num, \"x\", i, \"=\", num * i)\n"
   ]
  },
  {
   "cell_type": "code",
   "execution_count": 15,
   "id": "c5a023e4-94d5-4aaf-bc07-7995725d8cd4",
   "metadata": {},
   "outputs": [
    {
     "name": "stdout",
     "output_type": "stream",
     "text": [
      "Even numbers: 4\n",
      "Odd numbers: 5\n"
     ]
    }
   ],
   "source": [
    "# example list\n",
    "numbers_list = [1, 2, 3, 4, 5, 6, 7, 8, 9]\n",
    "#initialize the count of odd and even by 0\n",
    "\n",
    "even_count = 0\n",
    "odd_count = 0\n",
    "#use for loop to count the numbers\n",
    "for num in numbers_list:\n",
    "    if num % 2 == 0:\n",
    "        even_count += 1\n",
    "    else:\n",
    "        odd_count += 1\n",
    "#print the result\n",
    "print(\"Even numbers:\", even_count)\n",
    "print(\"Odd numbers:\", odd_count)\n"
   ]
  },
  {
   "cell_type": "code",
   "execution_count": 16,
   "id": "ddb5759b-990e-46b8-9271-cb7fd90eb58a",
   "metadata": {},
   "outputs": [
    {
     "name": "stdout",
     "output_type": "stream",
     "text": [
      "1 squared is 1\n",
      "2 squared is 4\n",
      "3 squared is 9\n",
      "4 squared is 16\n",
      "5 squared is 25\n"
     ]
    }
   ],
   "source": [
    "# use range to keep the value upto 5\n",
    "for i in range(1, 6):\n",
    "    square = i ** 2\n",
    "    print(f\"{i} squared is {square}\")\n"
   ]
  },
  {
   "cell_type": "code",
   "execution_count": 17,
   "id": "68df32fa-ca86-4e2a-9547-30f698d11517",
   "metadata": {},
   "outputs": [
    {
     "name": "stdout",
     "output_type": "stream",
     "text": [
      "Length: 13\n"
     ]
    }
   ],
   "source": [
    "#take the string\n",
    "input_string = \"Hello, World!\"\n",
    "length = 0\n",
    "#count the length and increase it in each loop\n",
    "for char in input_string:\n",
    "    length += 1\n",
    "\n",
    "print(\"Length:\", length)\n"
   ]
  },
  {
   "cell_type": "code",
   "execution_count": 18,
   "id": "92274ead-15e1-411b-975f-6e1000a8c3a4",
   "metadata": {},
   "outputs": [
    {
     "name": "stdout",
     "output_type": "stream",
     "text": [
      "Average: 3.0\n"
     ]
    }
   ],
   "source": [
    "# take the string\n",
    "numbers = [1, 2, 3, 4, 5]\n",
    "sum_result = 0\n",
    "#calculate the total sum \n",
    "for num in numbers:\n",
    "    sum_result += num\n",
    "# find the average\n",
    "average = sum_result / len(numbers)\n",
    "print(\"Average:\", average)\n"
   ]
  },
  {
   "cell_type": "code",
   "execution_count": 19,
   "id": "49769118-8aa2-4882-bd0b-f5c0368bba77",
   "metadata": {},
   "outputs": [
    {
     "name": "stdout",
     "output_type": "stream",
     "text": [
      "Fibonacci Sequence: [0, 1, 1, 2, 3]\n"
     ]
    }
   ],
   "source": [
    "#give the input as five\n",
    "n = 5\n",
    "fibonacci_sequence = [0, 1]\n",
    "#take the loop to print first n fibonacci \n",
    "\n",
    "for i in range(2, n):\n",
    "    next_fibonacci = fibonacci_sequence[-1] + fibonacci_sequence[-2]\n",
    "    fibonacci_sequence.append(next_fibonacci)\n",
    "\n",
    "print(\"Fibonacci Sequence:\", fibonacci_sequence)\n"
   ]
  },
  {
   "cell_type": "code",
   "execution_count": 22,
   "id": "220e9657-7ecc-4473-a939-a5ee6c0241ae",
   "metadata": {},
   "outputs": [
    {
     "name": "stdout",
     "output_type": "stream",
     "text": [
      "Has Duplicates: True\n"
     ]
    }
   ],
   "source": [
    "# Task 11\n",
    "def has_duplicates(lst):\n",
    "    seen = set()\n",
    "    for item in lst:\n",
    "        if item in seen:\n",
    "            return True\n",
    "        seen.add(item)\n",
    "    return False\n",
    "\n",
    "my_list = [1, 2, 3, 4, 5, 1]\n",
    "print(\"Has Duplicates:\", has_duplicates(my_list))\n"
   ]
  },
  {
   "cell_type": "code",
   "execution_count": 25,
   "id": "f2340158-fe6e-4a15-87be-b0cf4aa06e3e",
   "metadata": {},
   "outputs": [
    {
     "name": "stdout",
     "output_type": "stream",
     "text": [
      "Prime Numbers:\n",
      "2\n",
      "3\n",
      "5\n",
      "7\n",
      "11\n",
      "13\n",
      "17\n",
      "19\n"
     ]
    }
   ],
   "source": [
    "# define a function\n",
    "def is_prime(num):\n",
    "    if num < 2:\n",
    "        return False\n",
    "    for i in range(2, int(num*0.5) + 1):\n",
    "        if num % i == 0:\n",
    "            return False\n",
    "    return True\n",
    "#give the range of the numbers\n",
    "start_range = 1\n",
    "end_range = 20\n",
    "\n",
    "print(\"Prime Numbers:\")\n",
    "for number in range(start_range, end_range + 1):\n",
    "    if is_prime(number):\n",
    "        print(number)\n"
   ]
  },
  {
   "cell_type": "code",
   "execution_count": 29,
   "id": "de653d5b-1b3b-4dd3-b612-a98b91b31a97",
   "metadata": {},
   "outputs": [
    {
     "name": "stdout",
     "output_type": "stream",
     "text": [
      "Number of Vowels: 3\n"
     ]
    }
   ],
   "source": [
    "#take the string as an example\n",
    "input_string = \"Hello, World!\"\n",
    "vowels = \"aeiouAEIOU\"# take the set of vowels in string\n",
    "count = 0\n",
    "\n",
    "for char in input_string:\n",
    "    if char in vowels:\n",
    "        count += 1\n",
    "\n",
    "print(\"Number of Vowels:\", count)\n"
   ]
  },
  {
   "cell_type": "code",
   "execution_count": 30,
   "id": "6672be1f-ca60-4ff7-90ed-49952698bc4d",
   "metadata": {},
   "outputs": [
    {
     "name": "stdout",
     "output_type": "stream",
     "text": [
      "Maximum Element: 9\n"
     ]
    }
   ],
   "source": [
    "# take the matrix\n",
    "matrix = [[1, 2, 3], [4, 5, 6], [7, 8, 9]]\n",
    "max_element = matrix[0][0]\n",
    "#use loop to check the maximum \n",
    "for row in matrix:\n",
    "    for element in row:\n",
    "        if element > max_element:\n",
    "            max_element = element\n",
    "\n",
    "print(\"Maximum Element:\", max_element)\n"
   ]
  },
  {
   "cell_type": "code",
   "execution_count": 35,
   "id": "bf66df2c-6ba9-438b-b72e-e880f235cc39",
   "metadata": {},
   "outputs": [
    {
     "name": "stdout",
     "output_type": "stream",
     "text": [
      "Original List: [1, 2, 3, 4, 2, 5, 2]\n",
      "List after removing 2 : [1, 3, 4, 5]\n"
     ]
    }
   ],
   "source": [
    "# Task 15\n",
    "original_list = [1, 2, 3, 4, 2, 5, 2]\n",
    "element_to_remove = 2\n",
    "\n",
    "filtered_list = [i for i in original_list if i!=element_to_remove]\n",
    "\n",
    "print(\"Original List:\", original_list)\n",
    "print(\"List after removing\", element_to_remove, \":\", filtered_list)\n"
   ]
  },
  {
   "cell_type": "code",
   "execution_count": 36,
   "id": "b74b272b-c09c-4333-8f55-9a507950ee64",
   "metadata": {},
   "outputs": [
    {
     "name": "stdout",
     "output_type": "stream",
     "text": [
      "\n",
      "Multiplication table for 1:\n",
      "1 x 1 = 1\n",
      "1 x 2 = 2\n",
      "1 x 3 = 3\n",
      "1 x 4 = 4\n",
      "1 x 5 = 5\n",
      "1 x 6 = 6\n",
      "1 x 7 = 7\n",
      "1 x 8 = 8\n",
      "1 x 9 = 9\n",
      "1 x 10 = 10\n",
      "\n",
      "Multiplication table for 2:\n",
      "2 x 1 = 2\n",
      "2 x 2 = 4\n",
      "2 x 3 = 6\n",
      "2 x 4 = 8\n",
      "2 x 5 = 10\n",
      "2 x 6 = 12\n",
      "2 x 7 = 14\n",
      "2 x 8 = 16\n",
      "2 x 9 = 18\n",
      "2 x 10 = 20\n",
      "\n",
      "Multiplication table for 3:\n",
      "3 x 1 = 3\n",
      "3 x 2 = 6\n",
      "3 x 3 = 9\n",
      "3 x 4 = 12\n",
      "3 x 5 = 15\n",
      "3 x 6 = 18\n",
      "3 x 7 = 21\n",
      "3 x 8 = 24\n",
      "3 x 9 = 27\n",
      "3 x 10 = 30\n",
      "\n",
      "Multiplication table for 4:\n",
      "4 x 1 = 4\n",
      "4 x 2 = 8\n",
      "4 x 3 = 12\n",
      "4 x 4 = 16\n",
      "4 x 5 = 20\n",
      "4 x 6 = 24\n",
      "4 x 7 = 28\n",
      "4 x 8 = 32\n",
      "4 x 9 = 36\n",
      "4 x 10 = 40\n",
      "\n",
      "Multiplication table for 5:\n",
      "5 x 1 = 5\n",
      "5 x 2 = 10\n",
      "5 x 3 = 15\n",
      "5 x 4 = 20\n",
      "5 x 5 = 25\n",
      "5 x 6 = 30\n",
      "5 x 7 = 35\n",
      "5 x 8 = 40\n",
      "5 x 9 = 45\n",
      "5 x 10 = 50\n"
     ]
    }
   ],
   "source": [
    "# take the for loop\n",
    "for i in range(1, 6):\n",
    "    print(f\"\\nMultiplication table for {i}:\")\n",
    "    for j in range(1, 11): #use another loop to print the elemrnts\n",
    "        \n",
    "        result = i * j\n",
    "        print(f\"{i} x {j} = {result}\")\n"
   ]
  },
  {
   "cell_type": "code",
   "execution_count": 37,
   "id": "ddf1d15a-f116-46a3-8b90-e5878b9bd03c",
   "metadata": {},
   "outputs": [
    {
     "name": "stdout",
     "output_type": "stream",
     "text": [
      "Fahrenheit Temperatures: [32, 68, 100, 212]\n",
      "Celsius Temperatures: [0.0, 20.0, 37.77777777777778, 100.0]\n"
     ]
    }
   ],
   "source": [
    "# take both the list\n",
    "fahrenheit_temps = [32, 68, 100, 212]\n",
    "celsius_temps = []\n",
    "#convert each elemnt to celcius\n",
    "\n",
    "for temp in fahrenheit_temps:\n",
    "    celsius = (temp - 32) * 5/9\n",
    "    celsius_temps.append(celsius)\n",
    "# atlast print the reults\n",
    "print(\"Fahrenheit Temperatures:\", fahrenheit_temps)\n",
    "print(\"Celsius Temperatures:\", celsius_temps)\n"
   ]
  },
  {
   "cell_type": "code",
   "execution_count": 38,
   "id": "05237805-d1e7-41c4-9282-f0fc1f0b76ba",
   "metadata": {},
   "outputs": [
    {
     "name": "stdout",
     "output_type": "stream",
     "text": [
      "Common Elements: [3, 4, 5]\n"
     ]
    }
   ],
   "source": [
    "# take both the lists\n",
    "list1 = [1, 2, 3, 4, 5]\n",
    "list2 = [3, 4, 5, 6, 7]\n",
    "#common element stored in the list\n",
    "common_elements = [item for item in list1 if item in list2]\n",
    "#print the result\n",
    "\n",
    "print(\"Common Elements:\", common_elements)\n"
   ]
  },
  {
   "cell_type": "code",
   "execution_count": 40,
   "id": "fae61fef-d2a9-4992-8918-801ef6169a6a",
   "metadata": {},
   "outputs": [
    {
     "name": "stdout",
     "output_type": "stream",
     "text": [
      "*\n",
      "**\n",
      "***\n",
      "****\n"
     ]
    }
   ],
   "source": [
    "#for loop to print the * pattern\n",
    "for i in range(1,5):\n",
    "    print(\"*\"*i)"
   ]
  },
  {
   "cell_type": "code",
   "execution_count": 41,
   "id": "40265afb-73ec-43ca-8179-1086119319cf",
   "metadata": {},
   "outputs": [
    {
     "name": "stdout",
     "output_type": "stream",
     "text": [
      "Greatest Common Divisor: 12\n"
     ]
    }
   ],
   "source": [
    "# take a function name it gcd\n",
    "def gcd(a, b):\n",
    "    while b:\n",
    "        a, b = b, a % b\n",
    "    return a\n",
    "#take the two numbers\n",
    "num1 = 24\n",
    "num2 = 36\n",
    "\n",
    "print(\"Greatest Common Divisor:\", gcd(num1, num2))\n"
   ]
  },
  {
   "cell_type": "code",
   "execution_count": 3,
   "id": "54ffd0ff-30cc-48f9-a64e-eee6488409e2",
   "metadata": {},
   "outputs": [
    {
     "name": "stdout",
     "output_type": "stream",
     "text": [
      "Digit Sums: [6, 15, 24]\n"
     ]
    }
   ],
   "source": [
    "# take a list \n",
    "numbers = [123, 456, 789]\n",
    "#apply the loop and store the element the the list\n",
    "digit_sum_list = [sum(int(digit) for digit in str(number)) for number in numbers]\n",
    "\n",
    "print(\"Digit Sums:\", digit_sum_list)\n"
   ]
  },
  {
   "cell_type": "code",
   "execution_count": 4,
   "id": "3aac1fb8-0002-43a2-b8af-00b8291c6e51",
   "metadata": {},
   "outputs": [
    {
     "name": "stdout",
     "output_type": "stream",
     "text": [
      "Prime Factors of 36 : [2, 3]\n"
     ]
    }
   ],
   "source": [
    "# Task 22\n",
    "def prime_factors(num):\n",
    "    factors = [factor for factor in range(2, num + 1) if num % factor == 0 and all(factor % i != 0 for i in range(2, factor))]\n",
    "    return factors\n",
    "\n",
    "number = 36\n",
    "prime_factors_list = prime_factors(number)\n",
    "\n",
    "print(\"Prime Factors of\", number, \":\", prime_factors_list)\n"
   ]
  },
  {
   "cell_type": "code",
   "execution_count": 1,
   "id": "57038f1f-1de8-40a9-b2e9-aa55ae01e6e6",
   "metadata": {},
   "outputs": [
    {
     "name": "stdout",
     "output_type": "stream",
     "text": [
      "Original List: [1, 2, 2, 3, 4, 4, 5]\n",
      "Unique Elements: [1, 2, 3, 4, 5]\n"
     ]
    }
   ],
   "source": [
    "# Original list cteated\n",
    "original_list = [1, 2, 2, 3, 4, 4, 5]\n",
    "#create a  list of required elemnts\n",
    "unique_elements = list(set(original_list))\n",
    "#print the required\n",
    "\n",
    "print(\"Original List:\", original_list)\n",
    "print(\"Unique Elements:\", unique_elements)\n"
   ]
  },
  {
   "cell_type": "code",
   "execution_count": 44,
   "id": "377ee93b-8ac8-42cc-87e3-125d808975e7",
   "metadata": {},
   "outputs": [
    {
     "name": "stdout",
     "output_type": "stream",
     "text": [
      "Palindromic Numbers up to 100 : [0, 1, 2, 3, 4, 5, 6, 7, 8, 9, 11, 22, 33, 44, 55, 66, 77, 88, 99]\n"
     ]
    }
   ],
   "source": [
    "# provide a limit to the program\n",
    "limit = 100\n",
    "#create the palindromic list\n",
    "palindromic_numbers = [num for num in range(limit + 1) if str(num) == str(num)[::-1]]\n",
    "\n",
    "print(\"Palindromic Numbers up to\", limit, \":\", palindromic_numbers)\n"
   ]
  },
  {
   "cell_type": "code",
   "execution_count": 8,
   "id": "0edb52e0-ff36-46ff-b0b6-541755712110",
   "metadata": {},
   "outputs": [
    {
     "name": "stdout",
     "output_type": "stream",
     "text": [
      "Nested List: [[1, 2, 3], [4, 5, 6], [7, 8, 9]]\n",
      "Flattened List: [1, 2, 3, 4, 5, 6, 7, 8, 9]\n"
     ]
    }
   ],
   "source": [
    "# created the nested list\n",
    "nested_list = [[1, 2, 3], [4, 5, 6], [7, 8, 9]]\n",
    "#create the flattenned list\n",
    "flattened_list = [item for sublist in nested_list for item in sublist]\n",
    "\n",
    "print(\"Nested List:\", nested_list)\n",
    "print(\"Flattened List:\", flattened_list)\n"
   ]
  },
  {
   "cell_type": "code",
   "execution_count": 10,
   "id": "18f3ff8f-56c3-4668-b1a5-382c0245d3f0",
   "metadata": {},
   "outputs": [
    {
     "name": "stdout",
     "output_type": "stream",
     "text": [
      "The sum of even numbers in the list is : 20\n",
      "The sum of odd numbers in the list is : 25\n"
     ]
    }
   ],
   "source": [
    "# create a required list\n",
    "list1=[1,2,3,4,5,6,7,8,9]\n",
    "#sum the even and odd numbers separetly\n",
    "sum_ofeven=sum(i for i in list1 if i%2==0)\n",
    "sum_ofodd=sum(i for i in list1 if i%2!=0)\n",
    "print(\"The sum of even numbers in the list is :\", sum_ofeven)\n",
    "print(\"The sum of odd numbers in the list is :\",sum_ofodd)"
   ]
  },
  {
   "cell_type": "code",
   "execution_count": 12,
   "id": "dace402a-19f3-4f9e-9d16-12ed29d6de04",
   "metadata": {},
   "outputs": [
    {
     "name": "stdout",
     "output_type": "stream",
     "text": [
      "[1, 9, 25, 49, 81]\n"
     ]
    }
   ],
   "source": [
    "#create a list named square using loop and store the value\n",
    "\n",
    "square=[i*i for i in range(1,11) if i%2!=0 ]\n",
    "print(square)"
   ]
  },
  {
   "cell_type": "code",
   "execution_count": 45,
   "id": "d140c889-3682-46ed-8158-89f98af522ec",
   "metadata": {},
   "outputs": [
    {
     "name": "stdout",
     "output_type": "stream",
     "text": [
      "Combined Dictionary: {'a': 1, 'b': 2, 'c': 3}\n"
     ]
    }
   ],
   "source": [
    "# take two list\n",
    "keys = ['a', 'b', 'c']\n",
    "values = [1, 2, 3]\n",
    "#combine them using the zip function\n",
    "combined_dict = {key: value for key, value in zip(keys, values)}\n",
    "\n",
    "print(\"Combined Dictionary:\", combined_dict)\n"
   ]
  },
  {
   "cell_type": "code",
   "execution_count": 6,
   "id": "26285f8f-9e36-46b4-b761-fce234344b6d",
   "metadata": {},
   "outputs": [
    {
     "name": "stdout",
     "output_type": "stream",
     "text": [
      "The required list is : ['e', 'o', 'e', 'o', 'e', 'o', 'o']\n"
     ]
    }
   ],
   "source": [
    "#take a example string\n",
    "string=\"Hello welcome to my world!\"\n",
    "#take a list of vowels\n",
    "vowels=['a','e','i','o','u']\n",
    "#create the required list\n",
    "list=[letter for char in string for letter in char if letter in vowels]\n",
    "#print the list\n",
    "print(\"The required list is :\",list)"
   ]
  },
  {
   "cell_type": "code",
   "execution_count": 4,
   "id": "57c87f63-d18c-464d-b04b-7870f9c1bb37",
   "metadata": {},
   "outputs": [
    {
     "name": "stdout",
     "output_type": "stream",
     "text": [
      "ORIGINAL LIST\n",
      " ['abc', '123', 'ljf', '4555']\n",
      "Required string \n",
      " [1, 2, 3, 4, 5, 5, 5]\n"
     ]
    }
   ],
   "source": [
    "#take a example string\n",
    "string=[\"abc\",\"123\",'ljf','4555']\n",
    "#create the required list\n",
    "newlist=[int(j) for i in string for j in i if j.isdigit()]\n",
    "#print the list\n",
    "print(\"ORIGINAL LIST\\n\",string)\n",
    "print(\"Required string \\n\",newlist)"
   ]
  },
  {
   "cell_type": "code",
   "execution_count": 43,
   "id": "6fc0bf58-858b-431d-a8a5-cf6a950fae01",
   "metadata": {},
   "outputs": [
    {
     "name": "stdout",
     "output_type": "stream",
     "text": [
      "Prime Numbers up to 50 : [8, 9, 10, 11, 12, 13, 14, 15, 16, 17, 18, 19, 20, 21, 22, 23, 24, 25, 26, 27, 28, 29, 30, 31, 32, 33, 34, 35, 36, 37, 38, 39, 40, 41, 42, 43, 44, 45, 46, 47, 48, 49, 50]\n"
     ]
    }
   ],
   "source": [
    "\n",
    "limit = 50\n",
    "\n",
    "sieve = [True] * (limit + 1)\n",
    "sieve[0], sieve[1] = False, False\n",
    "\n",
    "primes = [num for num in range(2, int(limit**0.5) + 1) if sieve[num] for multiple in range(num**2, limit + 1, num)]\n",
    "\n",
    "print(\"Prime Numbers up to\", limit, \":\", [num for num in range(2, limit + 1) if sieve[num] and num not in primes])\n"
   ]
  },
  {
   "cell_type": "code",
   "execution_count": 14,
   "id": "28e2fef7-1a42-4446-a1ee-0155468a8958",
   "metadata": {},
   "outputs": [
    {
     "name": "stdout",
     "output_type": "stream",
     "text": [
      "Pythagorean Triplets up to 30 : [(3, 4, 5), (5, 12, 13), (6, 8, 10), (7, 24, 25), (8, 15, 17), (9, 12, 15), (10, 24, 26), (12, 16, 20), (15, 20, 25), (20, 21, 29)]\n"
     ]
    }
   ],
   "source": [
    "# give the limit \n",
    "limit = 30\n",
    "# Create a list of triplet\n",
    "pythagorean_triplets = [(a, b, c) for a in range(1, limit) for b in range(a, limit) for c in range(b, limit) if a**2 + b**2 == c**2]\n",
    "\n",
    "print(\"Pythagorean Triplets up to\", limit, \":\", pythagorean_triplets)\n"
   ]
  },
  {
   "cell_type": "code",
   "execution_count": 15,
   "id": "69e44299-5989-44ac-a6b8-727f8d2cf6e6",
   "metadata": {},
   "outputs": [
    {
     "name": "stdout",
     "output_type": "stream",
     "text": [
      "Combinations of [1, 2, 3] and ['a', 'b', 'c'] : [(1, 'a'), (1, 'b'), (1, 'c'), (2, 'a'), (2, 'b'), (2, 'c'), (3, 'a'), (3, 'b'), (3, 'c')]\n"
     ]
    }
   ],
   "source": [
    "# create two list\n",
    "list1 = [1, 2, 3]\n",
    "list2 = ['a', 'b', 'c']\n",
    "#create a loop for all possible outcomes\n",
    "combinations = [(x, y) for x in list1 for y in list2]\n",
    "\n",
    "print(\"Combinations of\", list1, \"and\", list2, \":\", combinations)\n"
   ]
  },
  {
   "cell_type": "code",
   "execution_count": 16,
   "id": "e9a1405c-3aca-4f5e-8598-1d604709c456",
   "metadata": {},
   "outputs": [
    {
     "name": "stdout",
     "output_type": "stream",
     "text": [
      "Mean: 5.5\n",
      "Median: 5.5\n",
      "Mode: 1\n"
     ]
    }
   ],
   "source": [
    "#import the library\n",
    "import statistics\n",
    "#numbers , a list is taken \n",
    "numbers = [1, 2, 3, 4, 5, 6, 7, 8, 9, 10]\n",
    "#mean mode and median is calulated\n",
    "mean = sum(numbers) / len(numbers)\n",
    "median = statistics.median(numbers)\n",
    "mode = statistics.mode(numbers)\n",
    "\n",
    "print(\"Mean:\", mean)\n",
    "print(\"Median:\", median)\n",
    "print(\"Mode:\", mode)\n"
   ]
  },
  {
   "cell_type": "code",
   "execution_count": 4,
   "id": "d4efc5fc-2580-478c-a741-81b3f163b15e",
   "metadata": {},
   "outputs": [
    {
     "ename": "IndexError",
     "evalue": "list index out of range",
     "output_type": "error",
     "traceback": [
      "\u001b[0;31m---------------------------------------------------------------------------\u001b[0m",
      "\u001b[0;31mIndexError\u001b[0m                                Traceback (most recent call last)",
      "Cell \u001b[0;32mIn[4], line 3\u001b[0m\n\u001b[1;32m      1\u001b[0m \u001b[38;5;66;03m# Task 35\u001b[39;00m\n\u001b[1;32m      2\u001b[0m rows \u001b[38;5;241m=\u001b[39m \u001b[38;5;241m5\u001b[39m\n\u001b[0;32m----> 3\u001b[0m pascals_triangle \u001b[38;5;241m=\u001b[39m [[\u001b[38;5;241m1\u001b[39m] \u001b[38;5;241m+\u001b[39m [pascals_triangle[row \u001b[38;5;241m-\u001b[39m \u001b[38;5;241m1\u001b[39m][i \u001b[38;5;241m-\u001b[39m \u001b[38;5;241m1\u001b[39m] \u001b[38;5;241m+\u001b[39m pascals_triangle[row \u001b[38;5;241m-\u001b[39m \u001b[38;5;241m1\u001b[39m][i] \u001b[38;5;28;01mfor\u001b[39;00m i \u001b[38;5;129;01min\u001b[39;00m \u001b[38;5;28mrange\u001b[39m(\u001b[38;5;241m1\u001b[39m, row)] \u001b[38;5;241m+\u001b[39m [\u001b[38;5;241m1\u001b[39m] \u001b[38;5;28;01mfor\u001b[39;00m row \u001b[38;5;129;01min\u001b[39;00m \u001b[38;5;28mrange\u001b[39m(\u001b[38;5;241m1\u001b[39m, rows \u001b[38;5;241m+\u001b[39m \u001b[38;5;241m1\u001b[39m)]\n\u001b[1;32m      5\u001b[0m \u001b[38;5;28mprint\u001b[39m(\u001b[38;5;124m\"\u001b[39m\u001b[38;5;124mPascal\u001b[39m\u001b[38;5;124m'\u001b[39m\u001b[38;5;124ms Triangle up to\u001b[39m\u001b[38;5;124m\"\u001b[39m, rows, \u001b[38;5;124m\"\u001b[39m\u001b[38;5;124mrows:\u001b[39m\u001b[38;5;124m\"\u001b[39m, pascals_triangle)\n",
      "Cell \u001b[0;32mIn[4], line 3\u001b[0m, in \u001b[0;36m<listcomp>\u001b[0;34m(.0)\u001b[0m\n\u001b[1;32m      1\u001b[0m \u001b[38;5;66;03m# Task 35\u001b[39;00m\n\u001b[1;32m      2\u001b[0m rows \u001b[38;5;241m=\u001b[39m \u001b[38;5;241m5\u001b[39m\n\u001b[0;32m----> 3\u001b[0m pascals_triangle \u001b[38;5;241m=\u001b[39m [[\u001b[38;5;241m1\u001b[39m] \u001b[38;5;241m+\u001b[39m [pascals_triangle[row \u001b[38;5;241m-\u001b[39m \u001b[38;5;241m1\u001b[39m][i \u001b[38;5;241m-\u001b[39m \u001b[38;5;241m1\u001b[39m] \u001b[38;5;241m+\u001b[39m pascals_triangle[row \u001b[38;5;241m-\u001b[39m \u001b[38;5;241m1\u001b[39m][i] \u001b[38;5;28;01mfor\u001b[39;00m i \u001b[38;5;129;01min\u001b[39;00m \u001b[38;5;28mrange\u001b[39m(\u001b[38;5;241m1\u001b[39m, row)] \u001b[38;5;241m+\u001b[39m [\u001b[38;5;241m1\u001b[39m] \u001b[38;5;28;01mfor\u001b[39;00m row \u001b[38;5;129;01min\u001b[39;00m \u001b[38;5;28mrange\u001b[39m(\u001b[38;5;241m1\u001b[39m, rows \u001b[38;5;241m+\u001b[39m \u001b[38;5;241m1\u001b[39m)]\n\u001b[1;32m      5\u001b[0m \u001b[38;5;28mprint\u001b[39m(\u001b[38;5;124m\"\u001b[39m\u001b[38;5;124mPascal\u001b[39m\u001b[38;5;124m'\u001b[39m\u001b[38;5;124ms Triangle up to\u001b[39m\u001b[38;5;124m\"\u001b[39m, rows, \u001b[38;5;124m\"\u001b[39m\u001b[38;5;124mrows:\u001b[39m\u001b[38;5;124m\"\u001b[39m, pascals_triangle)\n",
      "Cell \u001b[0;32mIn[4], line 3\u001b[0m, in \u001b[0;36m<listcomp>\u001b[0;34m(.0)\u001b[0m\n\u001b[1;32m      1\u001b[0m \u001b[38;5;66;03m# Task 35\u001b[39;00m\n\u001b[1;32m      2\u001b[0m rows \u001b[38;5;241m=\u001b[39m \u001b[38;5;241m5\u001b[39m\n\u001b[0;32m----> 3\u001b[0m pascals_triangle \u001b[38;5;241m=\u001b[39m [[\u001b[38;5;241m1\u001b[39m] \u001b[38;5;241m+\u001b[39m [\u001b[43mpascals_triangle\u001b[49m\u001b[43m[\u001b[49m\u001b[43mrow\u001b[49m\u001b[43m \u001b[49m\u001b[38;5;241;43m-\u001b[39;49m\u001b[43m \u001b[49m\u001b[38;5;241;43m1\u001b[39;49m\u001b[43m]\u001b[49m[i \u001b[38;5;241m-\u001b[39m \u001b[38;5;241m1\u001b[39m] \u001b[38;5;241m+\u001b[39m pascals_triangle[row \u001b[38;5;241m-\u001b[39m \u001b[38;5;241m1\u001b[39m][i] \u001b[38;5;28;01mfor\u001b[39;00m i \u001b[38;5;129;01min\u001b[39;00m \u001b[38;5;28mrange\u001b[39m(\u001b[38;5;241m1\u001b[39m, row)] \u001b[38;5;241m+\u001b[39m [\u001b[38;5;241m1\u001b[39m] \u001b[38;5;28;01mfor\u001b[39;00m row \u001b[38;5;129;01min\u001b[39;00m \u001b[38;5;28mrange\u001b[39m(\u001b[38;5;241m1\u001b[39m, rows \u001b[38;5;241m+\u001b[39m \u001b[38;5;241m1\u001b[39m)]\n\u001b[1;32m      5\u001b[0m \u001b[38;5;28mprint\u001b[39m(\u001b[38;5;124m\"\u001b[39m\u001b[38;5;124mPascal\u001b[39m\u001b[38;5;124m'\u001b[39m\u001b[38;5;124ms Triangle up to\u001b[39m\u001b[38;5;124m\"\u001b[39m, rows, \u001b[38;5;124m\"\u001b[39m\u001b[38;5;124mrows:\u001b[39m\u001b[38;5;124m\"\u001b[39m, pascals_triangle)\n",
      "\u001b[0;31mIndexError\u001b[0m: list index out of range"
     ]
    }
   ],
   "source": [
    "# Task 35\n",
    "rows = 5\n",
    "pascals_triangle = [[1] + [pascals_triangle[row - 1][i - 1] + pascals_triangle[row - 1][i] for i in range(1, row)] + [1] for row in range(1, rows + 1)]\n",
    "\n",
    "print(\"Pascal's Triangle up to\", rows, \"rows:\", pascals_triangle)\n"
   ]
  },
  {
   "cell_type": "code",
   "execution_count": 22,
   "id": "ac68250f-3803-4408-8add-130495ed13ab",
   "metadata": {},
   "outputs": [
    {
     "name": "stdout",
     "output_type": "stream",
     "text": [
      "Digit Sums of Factorials: [18]\n"
     ]
    }
   ],
   "source": [
    "# import the math lib\n",
    "import math\n",
    "#store the sum in the list\n",
    "factorials_digit_sum = [sum(int(digit) for i in range (1,6) for digit in str(math.factorial(i)))]\n",
    "\n",
    "print(\"Digit Sums of Factorials:\", factorials_digit_sum)\n"
   ]
  },
  {
   "cell_type": "code",
   "execution_count": 28,
   "id": "3a92c59a-55b7-4449-a58d-7239b0901468",
   "metadata": {},
   "outputs": [
    {
     "name": "stdout",
     "output_type": "stream",
     "text": [
      "Longest Word: sentence\n"
     ]
    }
   ],
   "source": [
    "# create a string\n",
    "sentence = \"This is a sample sentence for the longest word program.\"\n",
    "#fetch the largest using the split function and then using max\n",
    "longest_word = max([word.strip(\",\") for word in sentence.split()],key=len)\n",
    "\n",
    "print(\"Longest Word:\", longest_word)\n",
    "\n"
   ]
  },
  {
   "cell_type": "code",
   "execution_count": 31,
   "id": "3c387a07-5601-4e7f-94da-260e5a5f0a4a",
   "metadata": {},
   "outputs": [
    {
     "name": "stdout",
     "output_type": "stream",
     "text": [
      "The rquired list is: ['aeiou', 'aeiouaeiou']\n"
     ]
    }
   ],
   "source": [
    "list1=[\"hello\",'welcome','debasish','modi','aeiou','aeiouaeiou']\n",
    "new=[i for i in list1 if (sum(1 for j in i  if j.lower() in \"aeiou\")>3)]\n",
    "print(\"The rquired list is:\", new)"
   ]
  },
  {
   "cell_type": "code",
   "execution_count": 41,
   "id": "f723b934-30b6-4fdd-80e0-7a8a27ae054b",
   "metadata": {},
   "outputs": [
    {
     "name": "stdout",
     "output_type": "stream",
     "text": [
      "THe sum of the digit of the numbers are\n",
      " [1, 2, 3, 4, 5, 6, 7, 8, 9, 1, 2, 3, 4, 5, 6, 7, 8, 9, 10, 2, 3, 4, 5, 6, 7, 8, 9, 10, 11, 3, 4, 5, 6, 7, 8, 9, 10, 11, 12, 4, 5, 6, 7, 8, 9, 10, 11, 12, 13, 5, 6, 7, 8, 9, 10, 11, 12, 13, 14, 6, 7, 8, 9, 10, 11, 12, 13, 14, 15, 7, 8, 9, 10, 11, 12, 13, 14, 15, 16, 8, 9, 10, 11, 12, 13, 14, 15, 16, 17, 9, 10, 11, 12, 13, 14, 15, 16, 17, 18, 1]\n"
     ]
    }
   ],
   "source": [
    "#create a list using list comprehension \n",
    "sumlist=[sum(int(j)for j in str(i)) for i in range(1,101)]\n",
    "#print it\n",
    "print(\"THe sum of the digit of the numbers are\\n\",sumlist)"
   ]
  },
  {
   "cell_type": "code",
   "execution_count": 42,
   "id": "553a197a-0c91-44e4-857c-6534e3717d06",
   "metadata": {},
   "outputs": [
    {
     "name": "stdout",
     "output_type": "stream",
     "text": [
      "Prime Palindromic Numbers up to 100 : [2, 3, 5, 7, 11]\n"
     ]
    }
   ],
   "source": [
    "# create a function to check prime number\n",
    "def is_prime(num):\n",
    "    if num < 2:\n",
    "        return False\n",
    "    for i in range(2, int(num*0.5) + 1):\n",
    "        if num % i == 0:\n",
    "            return False\n",
    "    return True\n",
    "\n",
    "#provide the limit\n",
    "limit = 100\n",
    "#create a prime palindrome list\n",
    "prime_palindromes = [num for num in range(2, limit) if is_prime(num) and str(num) == str(num)[::-1]]\n",
    "\n",
    "print(\"Prime Palindromic Numbers up to\", limit, \":\", prime_palindromes)\n"
   ]
  },
  {
   "cell_type": "code",
   "execution_count": null,
   "id": "c5803150-7105-456b-bfe3-ea75197bd3a4",
   "metadata": {},
   "outputs": [],
   "source": []
  }
 ],
 "metadata": {
  "kernelspec": {
   "display_name": "Python 3 (ipykernel)",
   "language": "python",
   "name": "python3"
  },
  "language_info": {
   "codemirror_mode": {
    "name": "ipython",
    "version": 3
   },
   "file_extension": ".py",
   "mimetype": "text/x-python",
   "name": "python",
   "nbconvert_exporter": "python",
   "pygments_lexer": "ipython3",
   "version": "3.10.8"
  }
 },
 "nbformat": 4,
 "nbformat_minor": 5
}
