{
 "cells": [
  {
   "cell_type": "code",
   "execution_count": 1,
   "id": "8de116ca-7ac7-466a-b4d2-a84a507e88e6",
   "metadata": {},
   "outputs": [
    {
     "name": "stdin",
     "output_type": "stream",
     "text": [
      "ENTER THE FIRST NUMBER  45\n",
      "ENTER THE FIRST NUMBER  75\n"
     ]
    },
    {
     "name": "stdout",
     "output_type": "stream",
     "text": [
      "BEFORE SWAPPING NUMBERS ARE a = 45 b = 75\n",
      "AFTER SWAPPING NUMBERS ARE a = 75 b = 45\n"
     ]
    }
   ],
   "source": [
    "'''HELLO THIS IS MY FIRST PROGRAM\n",
    "LET THE TWO VARIABLES BE a AND b '''\n",
    "a=int(input(\"ENTER THE FIRST NUMBER \"))\n",
    "b=int(input(\"ENTER THE FIRST NUMBER \"))\n",
    "print(\"BEFORE SWAPPING NUMBERS ARE a =\",a,\"b =\",b)\n",
    "\n",
    "# swapping\n",
    "\n",
    "a,b=b,a\n",
    "print(\"AFTER SWAPPING NUMBERS ARE a =\",a,\"b =\",b)"
   ]
  },
  {
   "cell_type": "code",
   "execution_count": 4,
   "id": "20f505c6-ca66-426b-85fc-557d8229ece5",
   "metadata": {},
   "outputs": [
    {
     "name": "stdin",
     "output_type": "stream",
     "text": [
      "ENTER THE LENGTH OF RECTANGLE  5\n",
      "ENTER THE WIDTH OF RECTANGLE 8\n"
     ]
    },
    {
     "name": "stdout",
     "output_type": "stream",
     "text": [
      "The length and width of rectangle are  5 and 8 respectively\n",
      "The area of the Rectangle is  40\n"
     ]
    }
   ],
   "source": [
    "'''LET THE LENGTH OF THE RECTANGLE BE x AND WIDTH OF THE RECTANGLE BE b AND WE TAKE THE INPUT FROM THE USER'''\n",
    "#taking the input\n",
    "\n",
    "x=int(input(\"ENTER THE LENGTH OF RECTANGLE \"))\n",
    "y=int(input(\"ENTER THE WIDTH OF RECTANGLE\"))\n",
    "print(\"The length and width of rectangle are \",x,\"and\",y ,\"respectively\")\n",
    "#displaying the result\n",
    "print(\"The area of the Rectangle is \",x*y)"
   ]
  },
  {
   "cell_type": "code",
   "execution_count": 1,
   "id": "62eb3e35-b96e-4f28-abc8-8a0823e32cef",
   "metadata": {},
   "outputs": [
    {
     "name": "stdin",
     "output_type": "stream",
     "text": [
      "ENTER THE TEMPRATURE IN CELSIUS 37.22\n"
     ]
    },
    {
     "name": "stdout",
     "output_type": "stream",
     "text": [
      "In celsius temperature is : 37.22\n",
      "In farenheit the temperature is : 98.996\n"
     ]
    }
   ],
   "source": [
    "'''HERE LET TEMERATURE IN CELSIUS BE c AND IN FARENHEIT BE f '''\n",
    "#TAKING INPUT AS CELSIUS\n",
    "c=float(input(\"ENTER THE TEMPRATURE IN CELSIUS\"))\n",
    "print(\"In celsius temperature is :\",c)\n",
    "f=c*1.8 +32\n",
    "print(\"In farenheit the temperature is :\",f)"
   ]
  },
  {
   "cell_type": "code",
   "execution_count": 3,
   "id": "3e058a1d-851e-4ff6-bfd3-f88a374d6e53",
   "metadata": {},
   "outputs": [
    {
     "name": "stdin",
     "output_type": "stream",
     "text": [
      "ENTER ANY STRING hello welcome to pwskills\n"
     ]
    },
    {
     "name": "stdout",
     "output_type": "stream",
     "text": [
      "the string is : hello welcome to pwskills\n",
      "the length of the string is : 25\n"
     ]
    }
   ],
   "source": [
    "''' Let the string be named as string '''\n",
    "string=str(input(\"ENTER ANY STRING\"))\n",
    "print(\"the string is :\",string)\n",
    "print(\"the length of the string is :\",len(string))\n"
   ]
  },
  {
   "cell_type": "code",
   "execution_count": 10,
   "id": "7642c2a1-2136-4dd8-8929-a28ed6104e31",
   "metadata": {},
   "outputs": [
    {
     "name": "stdin",
     "output_type": "stream",
     "text": [
      "ENTER ANY SENTENCE THAT CONTAINS VOWELS hello my name is debaish\n"
     ]
    },
    {
     "name": "stdout",
     "output_type": "stream",
     "text": [
      "The sentence entered is : hello my name is debaish\n",
      "the number of vowels are : 8\n",
      "The vowels in the sentence is : ['e', 'o', 'a', 'e', 'i', 'e', 'a', 'i']\n"
     ]
    }
   ],
   "source": [
    "''' Let the sentence be named as sen'''\n",
    "sen=str(input(\"ENTER ANY SENTENCE THAT CONTAINS VOWELS\"))\n",
    "print(\"The sentence entered is :\",sen)\n",
    "vowel=[]\n",
    "for i in sen:\n",
    "    if i in(\"a\",\"e\",\"i\",\"o\",\"u\"):\n",
    "        vowel.append(i)\n",
    "print(\"the number of vowels are :\",len(vowel))\n",
    "print(\"The vowels in the sentence is :\",vowel)"
   ]
  },
  {
   "cell_type": "code",
   "execution_count": 25,
   "id": "839dd4e7-d3c0-4814-a05c-6df089053cb9",
   "metadata": {},
   "outputs": [
    {
     "name": "stdout",
     "output_type": "stream",
     "text": [
      "The reversed string is :  hallaW scisyhP\n"
     ]
    }
   ],
   "source": [
    "'''Let the string name be word'''\n",
    "#given string\n",
    "word=\"Physics Wallah\"\n",
    "#string reveresed using slicing\n",
    "print(\"The reversed string is : \",word[::-1])"
   ]
  },
  {
   "cell_type": "code",
   "execution_count": 29,
   "id": "016f172b-100f-4f44-943a-a94f96a59a24",
   "metadata": {},
   "outputs": [
    {
     "name": "stdin",
     "output_type": "stream",
     "text": [
      "ENTER A STRING TO CHECK ITS A PALINDROME OR NOT mom\n"
     ]
    },
    {
     "name": "stdout",
     "output_type": "stream",
     "text": [
      "IT IS PALINDROME\n"
     ]
    }
   ],
   "source": [
    "#let the string be named pal\n",
    "pal=str(input(\"ENTER A STRING TO CHECK ITS A PALINDROME OR NOT\"))\n",
    "#funtion that checks the string is palindrome or not\n",
    "def palindrome(str):\n",
    "    #we check if both the string are equal that is original and reversed string\n",
    "    if pal==pal[::-1]:\n",
    "        print(\"IT IS PALINDROME\")\n",
    "    else:\n",
    "        print(\"IT IS NOT PALINDROME\")\n",
    "#finally we call the function\n",
    "palindrome(pal)"
   ]
  },
  {
   "cell_type": "code",
   "execution_count": 31,
   "id": "1faf7f32-d5a7-48a2-bf39-635e1dfecd52",
   "metadata": {},
   "outputs": [
    {
     "name": "stdin",
     "output_type": "stream",
     "text": [
      "ENTER ANY STRING h e l l o\n"
     ]
    },
    {
     "name": "stdout",
     "output_type": "stream",
     "text": [
      "the string is : h e l l o\n",
      "The string without spaces is : hello\n"
     ]
    }
   ],
   "source": [
    "''' Let the string be named as string '''\n",
    "string=str(input(\"ENTER ANY STRING\"))\n",
    "print(\"the string is :\",string)\n",
    "# we use a function replace here that replaces all the character having spaces with none\n",
    "print(\"The string without spaces is :\",string.replace(\" \",\"\"))\n",
    "\n"
   ]
  },
  {
   "cell_type": "code",
   "execution_count": null,
   "id": "ba17fb12-d3ab-4f29-ae19-40ce15ce7e6c",
   "metadata": {},
   "outputs": [],
   "source": []
  }
 ],
 "metadata": {
  "kernelspec": {
   "display_name": "Python 3 (ipykernel)",
   "language": "python",
   "name": "python3"
  },
  "language_info": {
   "codemirror_mode": {
    "name": "ipython",
    "version": 3
   },
   "file_extension": ".py",
   "mimetype": "text/x-python",
   "name": "python",
   "nbconvert_exporter": "python",
   "pygments_lexer": "ipython3",
   "version": "3.10.8"
  }
 },
 "nbformat": 4,
 "nbformat_minor": 5
}
